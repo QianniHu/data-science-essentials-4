{
 "cells": [
  {
   "cell_type": "markdown",
   "id": "4143d042",
   "metadata": {},
   "source": [
    "## Week two test\n"
   ]
  },
  {
   "cell_type": "markdown",
   "id": "1e5da336",
   "metadata": {},
   "source": [
    "1. First, import the primary care physicians dataset (`primary_care_physicians.csv`) into a data frame named `physicians`. "
   ]
  },
  {
   "cell_type": "code",
   "execution_count": 1,
   "id": "156513e4",
   "metadata": {},
   "outputs": [],
   "source": [
    "import pandas as pd"
   ]
  },
  {
   "cell_type": "code",
   "execution_count": 2,
   "id": "48b7871d",
   "metadata": {},
   "outputs": [],
   "source": [
    "physicians = pd.read_csv('../data/primary_care_physicians.csv')"
   ]
  },
  {
   "cell_type": "markdown",
   "id": "e3a9c0a4",
   "metadata": {},
   "source": [
    " 2. Filter `physicians` down to just the counties in Tennessee. Save the filtered dataframe back to `physicians`. Verify that the resulting dataframe has 95 rows."
   ]
  },
  {
   "cell_type": "code",
   "execution_count": 3,
   "id": "d13e5ff6",
   "metadata": {},
   "outputs": [
    {
     "data": {
      "text/html": [
       "<div>\n",
       "<style scoped>\n",
       "    .dataframe tbody tr th:only-of-type {\n",
       "        vertical-align: middle;\n",
       "    }\n",
       "\n",
       "    .dataframe tbody tr th {\n",
       "        vertical-align: top;\n",
       "    }\n",
       "\n",
       "    .dataframe thead th {\n",
       "        text-align: right;\n",
       "    }\n",
       "</style>\n",
       "<table border=\"1\" class=\"dataframe\">\n",
       "  <thead>\n",
       "    <tr style=\"text-align: right;\">\n",
       "      <th></th>\n",
       "      <th>FIPS</th>\n",
       "      <th>state</th>\n",
       "      <th>county</th>\n",
       "      <th>primary_care_physicians</th>\n",
       "    </tr>\n",
       "  </thead>\n",
       "  <tbody>\n",
       "    <tr>\n",
       "      <th>2432</th>\n",
       "      <td>47001</td>\n",
       "      <td>Tennessee</td>\n",
       "      <td>Anderson</td>\n",
       "      <td>39.0</td>\n",
       "    </tr>\n",
       "    <tr>\n",
       "      <th>2433</th>\n",
       "      <td>47003</td>\n",
       "      <td>Tennessee</td>\n",
       "      <td>Bedford</td>\n",
       "      <td>15.0</td>\n",
       "    </tr>\n",
       "    <tr>\n",
       "      <th>2434</th>\n",
       "      <td>47005</td>\n",
       "      <td>Tennessee</td>\n",
       "      <td>Benton</td>\n",
       "      <td>3.0</td>\n",
       "    </tr>\n",
       "    <tr>\n",
       "      <th>2435</th>\n",
       "      <td>47007</td>\n",
       "      <td>Tennessee</td>\n",
       "      <td>Bledsoe</td>\n",
       "      <td>1.0</td>\n",
       "    </tr>\n",
       "    <tr>\n",
       "      <th>2436</th>\n",
       "      <td>47009</td>\n",
       "      <td>Tennessee</td>\n",
       "      <td>Blount</td>\n",
       "      <td>90.0</td>\n",
       "    </tr>\n",
       "    <tr>\n",
       "      <th>...</th>\n",
       "      <td>...</td>\n",
       "      <td>...</td>\n",
       "      <td>...</td>\n",
       "      <td>...</td>\n",
       "    </tr>\n",
       "    <tr>\n",
       "      <th>2522</th>\n",
       "      <td>47181</td>\n",
       "      <td>Tennessee</td>\n",
       "      <td>Wayne</td>\n",
       "      <td>5.0</td>\n",
       "    </tr>\n",
       "    <tr>\n",
       "      <th>2523</th>\n",
       "      <td>47183</td>\n",
       "      <td>Tennessee</td>\n",
       "      <td>Weakley</td>\n",
       "      <td>18.0</td>\n",
       "    </tr>\n",
       "    <tr>\n",
       "      <th>2524</th>\n",
       "      <td>47185</td>\n",
       "      <td>Tennessee</td>\n",
       "      <td>White</td>\n",
       "      <td>9.0</td>\n",
       "    </tr>\n",
       "    <tr>\n",
       "      <th>2525</th>\n",
       "      <td>47187</td>\n",
       "      <td>Tennessee</td>\n",
       "      <td>Williamson</td>\n",
       "      <td>338.0</td>\n",
       "    </tr>\n",
       "    <tr>\n",
       "      <th>2526</th>\n",
       "      <td>47189</td>\n",
       "      <td>Tennessee</td>\n",
       "      <td>Wilson</td>\n",
       "      <td>43.0</td>\n",
       "    </tr>\n",
       "  </tbody>\n",
       "</table>\n",
       "<p>95 rows × 4 columns</p>\n",
       "</div>"
      ],
      "text/plain": [
       "       FIPS      state      county  primary_care_physicians\n",
       "2432  47001  Tennessee    Anderson                     39.0\n",
       "2433  47003  Tennessee     Bedford                     15.0\n",
       "2434  47005  Tennessee      Benton                      3.0\n",
       "2435  47007  Tennessee     Bledsoe                      1.0\n",
       "2436  47009  Tennessee      Blount                     90.0\n",
       "...     ...        ...         ...                      ...\n",
       "2522  47181  Tennessee       Wayne                      5.0\n",
       "2523  47183  Tennessee     Weakley                     18.0\n",
       "2524  47185  Tennessee       White                      9.0\n",
       "2525  47187  Tennessee  Williamson                    338.0\n",
       "2526  47189  Tennessee      Wilson                     43.0\n",
       "\n",
       "[95 rows x 4 columns]"
      ]
     },
     "execution_count": 3,
     "metadata": {},
     "output_type": "execute_result"
    }
   ],
   "source": [
    "physicians.loc[physicians['state'] == 'Tennessee']"
   ]
  },
  {
   "cell_type": "code",
   "execution_count": 4,
   "id": "ad74d77a",
   "metadata": {},
   "outputs": [
    {
     "data": {
      "text/html": [
       "<div>\n",
       "<style scoped>\n",
       "    .dataframe tbody tr th:only-of-type {\n",
       "        vertical-align: middle;\n",
       "    }\n",
       "\n",
       "    .dataframe tbody tr th {\n",
       "        vertical-align: top;\n",
       "    }\n",
       "\n",
       "    .dataframe thead th {\n",
       "        text-align: right;\n",
       "    }\n",
       "</style>\n",
       "<table border=\"1\" class=\"dataframe\">\n",
       "  <thead>\n",
       "    <tr style=\"text-align: right;\">\n",
       "      <th></th>\n",
       "      <th>FIPS</th>\n",
       "      <th>state</th>\n",
       "      <th>county</th>\n",
       "      <th>primary_care_physicians</th>\n",
       "    </tr>\n",
       "  </thead>\n",
       "  <tbody>\n",
       "    <tr>\n",
       "      <th>2432</th>\n",
       "      <td>47001</td>\n",
       "      <td>Tennessee</td>\n",
       "      <td>Anderson</td>\n",
       "      <td>39.0</td>\n",
       "    </tr>\n",
       "    <tr>\n",
       "      <th>2433</th>\n",
       "      <td>47003</td>\n",
       "      <td>Tennessee</td>\n",
       "      <td>Bedford</td>\n",
       "      <td>15.0</td>\n",
       "    </tr>\n",
       "  </tbody>\n",
       "</table>\n",
       "</div>"
      ],
      "text/plain": [
       "       FIPS      state    county  primary_care_physicians\n",
       "2432  47001  Tennessee  Anderson                     39.0\n",
       "2433  47003  Tennessee   Bedford                     15.0"
      ]
     },
     "execution_count": 4,
     "metadata": {},
     "output_type": "execute_result"
    }
   ],
   "source": [
    "physicians = physicians.loc[physicians['state'] == 'Tennessee']\n",
    "physicians.head(2)"
   ]
  },
  {
   "cell_type": "code",
   "execution_count": 5,
   "id": "12c34a99",
   "metadata": {},
   "outputs": [
    {
     "data": {
      "text/plain": [
       "count     95.000000\n",
       "mean      51.042105\n",
       "std      129.311426\n",
       "min        0.000000\n",
       "25%        4.500000\n",
       "50%       12.000000\n",
       "75%       26.500000\n",
       "max      806.000000\n",
       "Name: primary_care_physicians, dtype: float64"
      ]
     },
     "execution_count": 5,
     "metadata": {},
     "output_type": "execute_result"
    }
   ],
   "source": [
    "physicians['primary_care_physicians'].describe()"
   ]
  },
  {
   "cell_type": "markdown",
   "id": "ed033b03",
   "metadata": {},
   "source": [
    " 3. Look at the distribution of the number of primary care physicians. What do you notice?"
   ]
  },
  {
   "cell_type": "markdown",
   "id": "079b4062",
   "metadata": {},
   "source": [
    "4. Now, import the population by county dataset (`population_by_county.csv`) into a DataFrame named `population`."
   ]
  },
  {
   "cell_type": "code",
   "execution_count": 6,
   "id": "cff9075c",
   "metadata": {},
   "outputs": [],
   "source": [
    "population = pd.read_csv('../data/population_by_county.csv')"
   ]
  },
  {
   "cell_type": "code",
   "execution_count": 7,
   "id": "f18fadc3",
   "metadata": {},
   "outputs": [
    {
     "data": {
      "text/html": [
       "<div>\n",
       "<style scoped>\n",
       "    .dataframe tbody tr th:only-of-type {\n",
       "        vertical-align: middle;\n",
       "    }\n",
       "\n",
       "    .dataframe tbody tr th {\n",
       "        vertical-align: top;\n",
       "    }\n",
       "\n",
       "    .dataframe thead th {\n",
       "        text-align: right;\n",
       "    }\n",
       "</style>\n",
       "<table border=\"1\" class=\"dataframe\">\n",
       "  <thead>\n",
       "    <tr style=\"text-align: right;\">\n",
       "      <th></th>\n",
       "      <th>FIPS</th>\n",
       "      <th>population</th>\n",
       "      <th>county</th>\n",
       "      <th>state</th>\n",
       "      <th>urban</th>\n",
       "    </tr>\n",
       "  </thead>\n",
       "  <tbody>\n",
       "    <tr>\n",
       "      <th>0</th>\n",
       "      <td>17051</td>\n",
       "      <td>21565</td>\n",
       "      <td>Fayette County</td>\n",
       "      <td>ILLINOIS</td>\n",
       "      <td>Rural</td>\n",
       "    </tr>\n",
       "    <tr>\n",
       "      <th>1</th>\n",
       "      <td>17107</td>\n",
       "      <td>29003</td>\n",
       "      <td>Logan County</td>\n",
       "      <td>ILLINOIS</td>\n",
       "      <td>Rural</td>\n",
       "    </tr>\n",
       "    <tr>\n",
       "      <th>2</th>\n",
       "      <td>17165</td>\n",
       "      <td>23994</td>\n",
       "      <td>Saline County</td>\n",
       "      <td>ILLINOIS</td>\n",
       "      <td>Rural</td>\n",
       "    </tr>\n",
       "    <tr>\n",
       "      <th>3</th>\n",
       "      <td>17097</td>\n",
       "      <td>701473</td>\n",
       "      <td>Lake County</td>\n",
       "      <td>ILLINOIS</td>\n",
       "      <td>Urban</td>\n",
       "    </tr>\n",
       "    <tr>\n",
       "      <th>4</th>\n",
       "      <td>17127</td>\n",
       "      <td>14219</td>\n",
       "      <td>Massac County</td>\n",
       "      <td>ILLINOIS</td>\n",
       "      <td>Rural</td>\n",
       "    </tr>\n",
       "  </tbody>\n",
       "</table>\n",
       "</div>"
      ],
      "text/plain": [
       "    FIPS  population          county     state  urban\n",
       "0  17051       21565  Fayette County  ILLINOIS  Rural\n",
       "1  17107       29003    Logan County  ILLINOIS  Rural\n",
       "2  17165       23994   Saline County  ILLINOIS  Rural\n",
       "3  17097      701473     Lake County  ILLINOIS  Urban\n",
       "4  17127       14219   Massac County  ILLINOIS  Rural"
      ]
     },
     "execution_count": 7,
     "metadata": {},
     "output_type": "execute_result"
    }
   ],
   "source": [
    "population.head(5)"
   ]
  },
  {
   "cell_type": "markdown",
   "id": "97dffc3e",
   "metadata": {},
   "source": [
    "5. Merge the `physicians` DataFrame with the `population` DataFrame. Keep only the values for Tennessee. When you merge, be sure the include both the `population` and `urban` columns in the merged results. Save the result of the merge back to `physicians`."
   ]
  },
  {
   "cell_type": "code",
   "execution_count": 8,
   "id": "fa7a0e2a",
   "metadata": {},
   "outputs": [
    {
     "data": {
      "text/html": [
       "<div>\n",
       "<style scoped>\n",
       "    .dataframe tbody tr th:only-of-type {\n",
       "        vertical-align: middle;\n",
       "    }\n",
       "\n",
       "    .dataframe tbody tr th {\n",
       "        vertical-align: top;\n",
       "    }\n",
       "\n",
       "    .dataframe thead th {\n",
       "        text-align: right;\n",
       "    }\n",
       "</style>\n",
       "<table border=\"1\" class=\"dataframe\">\n",
       "  <thead>\n",
       "    <tr style=\"text-align: right;\">\n",
       "      <th></th>\n",
       "      <th>FIPS</th>\n",
       "      <th>state</th>\n",
       "      <th>county</th>\n",
       "      <th>primary_care_physicians</th>\n",
       "    </tr>\n",
       "  </thead>\n",
       "  <tbody>\n",
       "    <tr>\n",
       "      <th>2432</th>\n",
       "      <td>47001</td>\n",
       "      <td>TENNESSEE</td>\n",
       "      <td>Anderson</td>\n",
       "      <td>39.0</td>\n",
       "    </tr>\n",
       "    <tr>\n",
       "      <th>2433</th>\n",
       "      <td>47003</td>\n",
       "      <td>TENNESSEE</td>\n",
       "      <td>Bedford</td>\n",
       "      <td>15.0</td>\n",
       "    </tr>\n",
       "    <tr>\n",
       "      <th>2434</th>\n",
       "      <td>47005</td>\n",
       "      <td>TENNESSEE</td>\n",
       "      <td>Benton</td>\n",
       "      <td>3.0</td>\n",
       "    </tr>\n",
       "    <tr>\n",
       "      <th>2435</th>\n",
       "      <td>47007</td>\n",
       "      <td>TENNESSEE</td>\n",
       "      <td>Bledsoe</td>\n",
       "      <td>1.0</td>\n",
       "    </tr>\n",
       "    <tr>\n",
       "      <th>2436</th>\n",
       "      <td>47009</td>\n",
       "      <td>TENNESSEE</td>\n",
       "      <td>Blount</td>\n",
       "      <td>90.0</td>\n",
       "    </tr>\n",
       "  </tbody>\n",
       "</table>\n",
       "</div>"
      ],
      "text/plain": [
       "       FIPS      state    county  primary_care_physicians\n",
       "2432  47001  TENNESSEE  Anderson                     39.0\n",
       "2433  47003  TENNESSEE   Bedford                     15.0\n",
       "2434  47005  TENNESSEE    Benton                      3.0\n",
       "2435  47007  TENNESSEE   Bledsoe                      1.0\n",
       "2436  47009  TENNESSEE    Blount                     90.0"
      ]
     },
     "execution_count": 8,
     "metadata": {},
     "output_type": "execute_result"
    }
   ],
   "source": [
    "physicians['state'] = physicians['state'].str.upper()\n",
    "physicians.head()"
   ]
  },
  {
   "cell_type": "code",
   "execution_count": 9,
   "id": "d937339d",
   "metadata": {},
   "outputs": [
    {
     "data": {
      "text/html": [
       "<div>\n",
       "<style scoped>\n",
       "    .dataframe tbody tr th:only-of-type {\n",
       "        vertical-align: middle;\n",
       "    }\n",
       "\n",
       "    .dataframe tbody tr th {\n",
       "        vertical-align: top;\n",
       "    }\n",
       "\n",
       "    .dataframe thead th {\n",
       "        text-align: right;\n",
       "    }\n",
       "</style>\n",
       "<table border=\"1\" class=\"dataframe\">\n",
       "  <thead>\n",
       "    <tr style=\"text-align: right;\">\n",
       "      <th></th>\n",
       "      <th>FIPS</th>\n",
       "      <th>population</th>\n",
       "      <th>county_x</th>\n",
       "      <th>state_x</th>\n",
       "      <th>urban</th>\n",
       "      <th>state_y</th>\n",
       "      <th>county_y</th>\n",
       "      <th>primary_care_physicians</th>\n",
       "    </tr>\n",
       "  </thead>\n",
       "  <tbody>\n",
       "    <tr>\n",
       "      <th>0</th>\n",
       "      <td>47165</td>\n",
       "      <td>183437</td>\n",
       "      <td>Sumner County</td>\n",
       "      <td>TENNESSEE</td>\n",
       "      <td>Urban</td>\n",
       "      <td>TENNESSEE</td>\n",
       "      <td>Sumner</td>\n",
       "      <td>91.0</td>\n",
       "    </tr>\n",
       "    <tr>\n",
       "      <th>1</th>\n",
       "      <td>47169</td>\n",
       "      <td>10231</td>\n",
       "      <td>Trousdale County</td>\n",
       "      <td>TENNESSEE</td>\n",
       "      <td>Urban</td>\n",
       "      <td>TENNESSEE</td>\n",
       "      <td>Trousdale</td>\n",
       "      <td>2.0</td>\n",
       "    </tr>\n",
       "    <tr>\n",
       "      <th>2</th>\n",
       "      <td>47027</td>\n",
       "      <td>7654</td>\n",
       "      <td>Clay County</td>\n",
       "      <td>TENNESSEE</td>\n",
       "      <td>Rural</td>\n",
       "      <td>TENNESSEE</td>\n",
       "      <td>Clay</td>\n",
       "      <td>2.0</td>\n",
       "    </tr>\n",
       "    <tr>\n",
       "      <th>3</th>\n",
       "      <td>47157</td>\n",
       "      <td>936374</td>\n",
       "      <td>Shelby County</td>\n",
       "      <td>TENNESSEE</td>\n",
       "      <td>Urban</td>\n",
       "      <td>TENNESSEE</td>\n",
       "      <td>Shelby</td>\n",
       "      <td>806.0</td>\n",
       "    </tr>\n",
       "    <tr>\n",
       "      <th>4</th>\n",
       "      <td>47077</td>\n",
       "      <td>27977</td>\n",
       "      <td>Henderson County</td>\n",
       "      <td>TENNESSEE</td>\n",
       "      <td>Rural</td>\n",
       "      <td>TENNESSEE</td>\n",
       "      <td>Henderson</td>\n",
       "      <td>7.0</td>\n",
       "    </tr>\n",
       "  </tbody>\n",
       "</table>\n",
       "</div>"
      ],
      "text/plain": [
       "    FIPS  population          county_x    state_x  urban    state_y  \\\n",
       "0  47165      183437     Sumner County  TENNESSEE  Urban  TENNESSEE   \n",
       "1  47169       10231  Trousdale County  TENNESSEE  Urban  TENNESSEE   \n",
       "2  47027        7654       Clay County  TENNESSEE  Rural  TENNESSEE   \n",
       "3  47157      936374     Shelby County  TENNESSEE  Urban  TENNESSEE   \n",
       "4  47077       27977  Henderson County  TENNESSEE  Rural  TENNESSEE   \n",
       "\n",
       "    county_y  primary_care_physicians  \n",
       "0     Sumner                     91.0  \n",
       "1  Trousdale                      2.0  \n",
       "2       Clay                      2.0  \n",
       "3     Shelby                    806.0  \n",
       "4  Henderson                      7.0  "
      ]
     },
     "execution_count": 9,
     "metadata": {},
     "output_type": "execute_result"
    }
   ],
   "source": [
    "physicians = pd.merge(left = population, right = physicians, on = 'FIPS')\n",
    "physicians.head()\n"
   ]
  },
  {
   "cell_type": "markdown",
   "id": "0b66cee5",
   "metadata": {},
   "source": [
    "pd.merge( left = physicians,\n",
    "               right = population.loc[population['state']==\"TENNESSEE\"], on=\"FIPS\")\n",
    "               population['county'].str.rsplit('',n=1, expand = True)\n",
    "               population['county'].str.split(' County', expand = True)\n",
    "               population['county']=population['county'].str.split(' County', expand = True)[0]"
   ]
  },
  {
   "cell_type": "markdown",
   "id": "9121c946",
   "metadata": {},
   "source": [
    "6. How many Tennessee counties are considered urban?\n",
    "Answer:38\n"
   ]
  },
  {
   "cell_type": "code",
   "execution_count": 10,
   "id": "f0b01f10",
   "metadata": {},
   "outputs": [
    {
     "data": {
      "text/plain": [
       "(38, 8)"
      ]
     },
     "execution_count": 10,
     "metadata": {},
     "output_type": "execute_result"
    }
   ],
   "source": [
    " urban_list = physicians.loc[(physicians['urban'] == 'Urban')]\n",
    "urban_list.shape\n"
   ]
  },
  {
   "cell_type": "code",
   "execution_count": 11,
   "id": "14cd1e30",
   "metadata": {},
   "outputs": [
    {
     "data": {
      "text/plain": [
       "Rural    57\n",
       "Urban    38\n",
       "Name: urban, dtype: int64"
      ]
     },
     "execution_count": 11,
     "metadata": {},
     "output_type": "execute_result"
    }
   ],
   "source": [
    "physicians['urban'].value_counts()"
   ]
  },
  {
   "cell_type": "code",
   "execution_count": 12,
   "id": "6d57334a",
   "metadata": {},
   "outputs": [
    {
     "data": {
      "text/html": [
       "<div>\n",
       "<style scoped>\n",
       "    .dataframe tbody tr th:only-of-type {\n",
       "        vertical-align: middle;\n",
       "    }\n",
       "\n",
       "    .dataframe tbody tr th {\n",
       "        vertical-align: top;\n",
       "    }\n",
       "\n",
       "    .dataframe thead th {\n",
       "        text-align: right;\n",
       "    }\n",
       "</style>\n",
       "<table border=\"1\" class=\"dataframe\">\n",
       "  <thead>\n",
       "    <tr style=\"text-align: right;\">\n",
       "      <th></th>\n",
       "      <th>population</th>\n",
       "      <th>urban</th>\n",
       "      <th>primary_care_physicians</th>\n",
       "    </tr>\n",
       "  </thead>\n",
       "  <tbody>\n",
       "    <tr>\n",
       "      <th>0</th>\n",
       "      <td>183437</td>\n",
       "      <td>Urban</td>\n",
       "      <td>91.0</td>\n",
       "    </tr>\n",
       "    <tr>\n",
       "      <th>1</th>\n",
       "      <td>10231</td>\n",
       "      <td>Urban</td>\n",
       "      <td>2.0</td>\n",
       "    </tr>\n",
       "    <tr>\n",
       "      <th>2</th>\n",
       "      <td>7654</td>\n",
       "      <td>Rural</td>\n",
       "      <td>2.0</td>\n",
       "    </tr>\n",
       "    <tr>\n",
       "      <th>3</th>\n",
       "      <td>936374</td>\n",
       "      <td>Urban</td>\n",
       "      <td>806.0</td>\n",
       "    </tr>\n",
       "    <tr>\n",
       "      <th>4</th>\n",
       "      <td>27977</td>\n",
       "      <td>Rural</td>\n",
       "      <td>7.0</td>\n",
       "    </tr>\n",
       "  </tbody>\n",
       "</table>\n",
       "</div>"
      ],
      "text/plain": [
       "   population  urban  primary_care_physicians\n",
       "0      183437  Urban                     91.0\n",
       "1       10231  Urban                      2.0\n",
       "2        7654  Rural                      2.0\n",
       "3      936374  Urban                    806.0\n",
       "4       27977  Rural                      7.0"
      ]
     },
     "execution_count": 12,
     "metadata": {},
     "output_type": "execute_result"
    }
   ],
   "source": [
    "physicians = physicians[['population', 'urban', 'primary_care_physicians']]\n",
    "physicians.head()"
   ]
  },
  {
   "cell_type": "markdown",
   "id": "a58a0790",
   "metadata": {},
   "source": [
    "How many Tennessee counties are considered urban?\n",
    "Answer:38"
   ]
  },
  {
   "cell_type": "markdown",
   "id": "36db3965",
   "metadata": {},
   "source": [
    "7. The State Health Access Data Assistance Center (SHADAC) (https://www.shadac.org/) classifies counties into three groups based on the number of residents per primary care physician. First, counties with fewer than 1500 residents per primary care physician are considered to have an \"adequate\" supply. Counties with at least 1500 residents but fewer than 3500 residents per primary care physician are considered to have a \"moderately inadequate\" supply, and counties with at least 3500 residents per primary care physician are considered to have a \"low inadequate\" supply. How many counties in Tennessee are in each group?\n",
    "\"adequate\" = 14; low inadequate = 31; moderately inadequate=50\n",
    "physicians['residents_per_pcp']=physicians['population'] / physicians['primary_care_physicians']"
   ]
  },
  {
   "cell_type": "code",
   "execution_count": 13,
   "id": "57d31df0",
   "metadata": {},
   "outputs": [
    {
     "data": {
      "text/plain": [
       "False    81\n",
       "True     14\n",
       "dtype: int64"
      ]
     },
     "execution_count": 13,
     "metadata": {},
     "output_type": "execute_result"
    }
   ],
   "source": [
    "adequate = pd.DataFrame(physicians['population'] / physicians['primary_care_physicians'] <= 1500)\n",
    "adequate.value_counts()\n"
   ]
  },
  {
   "cell_type": "code",
   "execution_count": 14,
   "id": "f1a8c479",
   "metadata": {},
   "outputs": [
    {
     "data": {
      "text/plain": [
       "low_inadequate\n",
       "False             64\n",
       "True              31\n",
       "dtype: int64"
      ]
     },
     "execution_count": 14,
     "metadata": {},
     "output_type": "execute_result"
    }
   ],
   "source": [
    "low_inadequate = pd.DataFrame((physicians['population'] / physicians['primary_care_physicians'] >=3500), columns = ['low_inadequate'])\n",
    "low_inadequate.head()\n",
    "low_inadequate.value_counts()\n"
   ]
  },
  {
   "cell_type": "code",
   "execution_count": 15,
   "id": "eb4a0ccc",
   "metadata": {},
   "outputs": [
    {
     "name": "stdout",
     "output_type": "stream",
     "text": [
      "50\n"
     ]
    }
   ],
   "source": [
    "moderately_inadequate = 95-14-31\n",
    "print(moderately_inadequate)"
   ]
  },
  {
   "cell_type": "markdown",
   "id": "447767d2",
   "metadata": {},
   "source": [
    "\"adequate\" = 14\n",
    "low inadequate = 31\n",
    "moderately inadequate=50\n",
    "\n"
   ]
  },
  {
   "cell_type": "markdown",
   "id": "c410936d",
   "metadata": {},
   "source": [
    "8.Does there appear to be any detectable relationship between whether a county is urban or rural and its supply of primary care physicians?\n",
    "no"
   ]
  },
  {
   "cell_type": "code",
   "execution_count": 16,
   "id": "e40b3e65",
   "metadata": {},
   "outputs": [
    {
     "data": {
      "text/html": [
       "<div>\n",
       "<style scoped>\n",
       "    .dataframe tbody tr th:only-of-type {\n",
       "        vertical-align: middle;\n",
       "    }\n",
       "\n",
       "    .dataframe tbody tr th {\n",
       "        vertical-align: top;\n",
       "    }\n",
       "\n",
       "    .dataframe thead th {\n",
       "        text-align: right;\n",
       "    }\n",
       "</style>\n",
       "<table border=\"1\" class=\"dataframe\">\n",
       "  <thead>\n",
       "    <tr style=\"text-align: right;\">\n",
       "      <th></th>\n",
       "      <th>ratio</th>\n",
       "    </tr>\n",
       "  </thead>\n",
       "  <tbody>\n",
       "    <tr>\n",
       "      <th>0</th>\n",
       "      <td>2015.791209</td>\n",
       "    </tr>\n",
       "    <tr>\n",
       "      <th>1</th>\n",
       "      <td>5115.500000</td>\n",
       "    </tr>\n",
       "    <tr>\n",
       "      <th>2</th>\n",
       "      <td>3827.000000</td>\n",
       "    </tr>\n",
       "    <tr>\n",
       "      <th>3</th>\n",
       "      <td>1161.754342</td>\n",
       "    </tr>\n",
       "    <tr>\n",
       "      <th>4</th>\n",
       "      <td>3996.714286</td>\n",
       "    </tr>\n",
       "  </tbody>\n",
       "</table>\n",
       "</div>"
      ],
      "text/plain": [
       "         ratio\n",
       "0  2015.791209\n",
       "1  5115.500000\n",
       "2  3827.000000\n",
       "3  1161.754342\n",
       "4  3996.714286"
      ]
     },
     "execution_count": 16,
     "metadata": {},
     "output_type": "execute_result"
    }
   ],
   "source": [
    "physicians_rate = pd.DataFrame(physicians['population'] / physicians['primary_care_physicians'], columns = ['ratio'])\n",
    "\n",
    "physicians_rate.head()"
   ]
  },
  {
   "cell_type": "code",
   "execution_count": 17,
   "id": "5618bfe0",
   "metadata": {},
   "outputs": [
    {
     "data": {
      "text/html": [
       "<div>\n",
       "<style scoped>\n",
       "    .dataframe tbody tr th:only-of-type {\n",
       "        vertical-align: middle;\n",
       "    }\n",
       "\n",
       "    .dataframe tbody tr th {\n",
       "        vertical-align: top;\n",
       "    }\n",
       "\n",
       "    .dataframe thead th {\n",
       "        text-align: right;\n",
       "    }\n",
       "</style>\n",
       "<table border=\"1\" class=\"dataframe\">\n",
       "  <thead>\n",
       "    <tr style=\"text-align: right;\">\n",
       "      <th></th>\n",
       "      <th>population</th>\n",
       "      <th>urban</th>\n",
       "      <th>primary_care_physicians</th>\n",
       "      <th>ratio</th>\n",
       "    </tr>\n",
       "  </thead>\n",
       "  <tbody>\n",
       "    <tr>\n",
       "      <th>0</th>\n",
       "      <td>183437</td>\n",
       "      <td>Urban</td>\n",
       "      <td>91.0</td>\n",
       "      <td>2015.791209</td>\n",
       "    </tr>\n",
       "    <tr>\n",
       "      <th>1</th>\n",
       "      <td>10231</td>\n",
       "      <td>Urban</td>\n",
       "      <td>2.0</td>\n",
       "      <td>5115.500000</td>\n",
       "    </tr>\n",
       "    <tr>\n",
       "      <th>2</th>\n",
       "      <td>7654</td>\n",
       "      <td>Rural</td>\n",
       "      <td>2.0</td>\n",
       "      <td>3827.000000</td>\n",
       "    </tr>\n",
       "    <tr>\n",
       "      <th>3</th>\n",
       "      <td>936374</td>\n",
       "      <td>Urban</td>\n",
       "      <td>806.0</td>\n",
       "      <td>1161.754342</td>\n",
       "    </tr>\n",
       "    <tr>\n",
       "      <th>4</th>\n",
       "      <td>27977</td>\n",
       "      <td>Rural</td>\n",
       "      <td>7.0</td>\n",
       "      <td>3996.714286</td>\n",
       "    </tr>\n",
       "  </tbody>\n",
       "</table>\n",
       "</div>"
      ],
      "text/plain": [
       "   population  urban  primary_care_physicians        ratio\n",
       "0      183437  Urban                     91.0  2015.791209\n",
       "1       10231  Urban                      2.0  5115.500000\n",
       "2        7654  Rural                      2.0  3827.000000\n",
       "3      936374  Urban                    806.0  1161.754342\n",
       "4       27977  Rural                      7.0  3996.714286"
      ]
     },
     "execution_count": 17,
     "metadata": {},
     "output_type": "execute_result"
    }
   ],
   "source": [
    "result = pd.concat([physicians, physicians_rate], axis=1)\n",
    "result.head()"
   ]
  },
  {
   "cell_type": "code",
   "execution_count": 18,
   "id": "33a6145b",
   "metadata": {},
   "outputs": [
    {
     "name": "stdout",
     "output_type": "stream",
     "text": [
      "<class 'pandas.core.frame.DataFrame'>\n",
      "Int64Index: 31 entries, 1 to 93\n",
      "Data columns (total 4 columns):\n",
      " #   Column                   Non-Null Count  Dtype  \n",
      "---  ------                   --------------  -----  \n",
      " 0   population               31 non-null     int64  \n",
      " 1   urban                    31 non-null     object \n",
      " 2   primary_care_physicians  31 non-null     float64\n",
      " 3   ratio                    31 non-null     float64\n",
      "dtypes: float64(2), int64(1), object(1)\n",
      "memory usage: 1.2+ KB\n"
     ]
    }
   ],
   "source": [
    "low = result.loc[(result['ratio'] >= 3500) ]\n",
    "low.info()"
   ]
  },
  {
   "cell_type": "code",
   "execution_count": 19,
   "id": "916410f5",
   "metadata": {},
   "outputs": [
    {
     "data": {
      "text/html": [
       "<div>\n",
       "<style scoped>\n",
       "    .dataframe tbody tr th:only-of-type {\n",
       "        vertical-align: middle;\n",
       "    }\n",
       "\n",
       "    .dataframe tbody tr th {\n",
       "        vertical-align: top;\n",
       "    }\n",
       "\n",
       "    .dataframe thead th {\n",
       "        text-align: right;\n",
       "    }\n",
       "</style>\n",
       "<table border=\"1\" class=\"dataframe\">\n",
       "  <thead>\n",
       "    <tr style=\"text-align: right;\">\n",
       "      <th></th>\n",
       "      <th>population</th>\n",
       "      <th>urban</th>\n",
       "      <th>primary_care_physicians</th>\n",
       "      <th>ratio</th>\n",
       "    </tr>\n",
       "  </thead>\n",
       "  <tbody>\n",
       "    <tr>\n",
       "      <th>3</th>\n",
       "      <td>936374</td>\n",
       "      <td>Urban</td>\n",
       "      <td>806.0</td>\n",
       "      <td>1161.754342</td>\n",
       "    </tr>\n",
       "    <tr>\n",
       "      <th>8</th>\n",
       "      <td>687488</td>\n",
       "      <td>Urban</td>\n",
       "      <td>665.0</td>\n",
       "      <td>1033.816541</td>\n",
       "    </tr>\n",
       "    <tr>\n",
       "      <th>20</th>\n",
       "      <td>360919</td>\n",
       "      <td>Urban</td>\n",
       "      <td>403.0</td>\n",
       "      <td>895.580645</td>\n",
       "    </tr>\n",
       "    <tr>\n",
       "      <th>23</th>\n",
       "      <td>157050</td>\n",
       "      <td>Urban</td>\n",
       "      <td>199.0</td>\n",
       "      <td>789.195980</td>\n",
       "    </tr>\n",
       "    <tr>\n",
       "      <th>38</th>\n",
       "      <td>127805</td>\n",
       "      <td>Urban</td>\n",
       "      <td>226.0</td>\n",
       "      <td>565.508850</td>\n",
       "    </tr>\n",
       "    <tr>\n",
       "      <th>46</th>\n",
       "      <td>55209</td>\n",
       "      <td>Rural</td>\n",
       "      <td>37.0</td>\n",
       "      <td>1492.135135</td>\n",
       "    </tr>\n",
       "    <tr>\n",
       "      <th>56</th>\n",
       "      <td>129927</td>\n",
       "      <td>Urban</td>\n",
       "      <td>90.0</td>\n",
       "      <td>1443.633333</td>\n",
       "    </tr>\n",
       "    <tr>\n",
       "      <th>63</th>\n",
       "      <td>97625</td>\n",
       "      <td>Urban</td>\n",
       "      <td>129.0</td>\n",
       "      <td>756.782946</td>\n",
       "    </tr>\n",
       "    <tr>\n",
       "      <th>68</th>\n",
       "      <td>225389</td>\n",
       "      <td>Urban</td>\n",
       "      <td>338.0</td>\n",
       "      <td>666.831361</td>\n",
       "    </tr>\n",
       "    <tr>\n",
       "      <th>71</th>\n",
       "      <td>59216</td>\n",
       "      <td>Rural</td>\n",
       "      <td>40.0</td>\n",
       "      <td>1480.400000</td>\n",
       "    </tr>\n",
       "    <tr>\n",
       "      <th>73</th>\n",
       "      <td>31732</td>\n",
       "      <td>Rural</td>\n",
       "      <td>23.0</td>\n",
       "      <td>1379.652174</td>\n",
       "    </tr>\n",
       "    <tr>\n",
       "      <th>76</th>\n",
       "      <td>77447</td>\n",
       "      <td>Rural</td>\n",
       "      <td>52.0</td>\n",
       "      <td>1489.365385</td>\n",
       "    </tr>\n",
       "    <tr>\n",
       "      <th>91</th>\n",
       "      <td>32284</td>\n",
       "      <td>Rural</td>\n",
       "      <td>22.0</td>\n",
       "      <td>1467.454545</td>\n",
       "    </tr>\n",
       "    <tr>\n",
       "      <th>94</th>\n",
       "      <td>461104</td>\n",
       "      <td>Urban</td>\n",
       "      <td>520.0</td>\n",
       "      <td>886.738462</td>\n",
       "    </tr>\n",
       "  </tbody>\n",
       "</table>\n",
       "</div>"
      ],
      "text/plain": [
       "    population  urban  primary_care_physicians        ratio\n",
       "3       936374  Urban                    806.0  1161.754342\n",
       "8       687488  Urban                    665.0  1033.816541\n",
       "20      360919  Urban                    403.0   895.580645\n",
       "23      157050  Urban                    199.0   789.195980\n",
       "38      127805  Urban                    226.0   565.508850\n",
       "46       55209  Rural                     37.0  1492.135135\n",
       "56      129927  Urban                     90.0  1443.633333\n",
       "63       97625  Urban                    129.0   756.782946\n",
       "68      225389  Urban                    338.0   666.831361\n",
       "71       59216  Rural                     40.0  1480.400000\n",
       "73       31732  Rural                     23.0  1379.652174\n",
       "76       77447  Rural                     52.0  1489.365385\n",
       "91       32284  Rural                     22.0  1467.454545\n",
       "94      461104  Urban                    520.0   886.738462"
      ]
     },
     "execution_count": 19,
     "metadata": {},
     "output_type": "execute_result"
    }
   ],
   "source": [
    "result[(result['ratio'] <= 1500)]"
   ]
  },
  {
   "cell_type": "code",
   "execution_count": 24,
   "id": "dd45bf1c",
   "metadata": {},
   "outputs": [
    {
     "data": {
      "text/plain": [
       "(31, 4)"
      ]
     },
     "execution_count": 24,
     "metadata": {},
     "output_type": "execute_result"
    }
   ],
   "source": [
    "result[(result['ratio'] >= 3500)].shape"
   ]
  },
  {
   "cell_type": "code",
   "execution_count": 23,
   "id": "1bff9573",
   "metadata": {},
   "outputs": [
    {
     "data": {
      "text/plain": [
       "Rural    31\n",
       "Urban    19\n",
       "Name: urban, dtype: int64"
      ]
     },
     "execution_count": 23,
     "metadata": {},
     "output_type": "execute_result"
    }
   ],
   "source": [
    "result[(result['ratio'] <= 3500) & (result['ratio'] >= 1500)]['urban'].value_counts()\n"
   ]
  },
  {
   "cell_type": "code",
   "execution_count": null,
   "id": "2c615310",
   "metadata": {},
   "outputs": [],
   "source": []
  }
 ],
 "metadata": {
  "kernelspec": {
   "display_name": "Python 3",
   "language": "python",
   "name": "python3"
  },
  "language_info": {
   "codemirror_mode": {
    "name": "ipython",
    "version": 3
   },
   "file_extension": ".py",
   "mimetype": "text/x-python",
   "name": "python",
   "nbconvert_exporter": "python",
   "pygments_lexer": "ipython3",
   "version": "3.8.8"
  }
 },
 "nbformat": 4,
 "nbformat_minor": 5
}
